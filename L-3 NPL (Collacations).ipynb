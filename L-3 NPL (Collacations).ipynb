{
 "cells": [
  {
   "cell_type": "markdown",
   "metadata": {},
   "source": [
    "# Collocations: \n",
    "\n",
    "Collocation can be categorized into two types-\n",
    "\n",
    "1. Bigrams (combination of two words)\n",
    "2. Trigrams (combination of three words)\n",
    "\n",
    "Example of Bigrams- CT Scan, UltraViolet rays, Hotel Staff, Clean room, Batch mates\n",
    "\n",
    "Examples of Trigram- Lakme fashion week, good to know, as known as, great police officer"
   ]
  },
  {
   "cell_type": "code",
   "execution_count": 47,
   "metadata": {},
   "outputs": [
    {
     "name": "stdout",
     "output_type": "stream",
     "text": [
      "(('Piford', 'Technologies'), ('Technologies', 'will'), ('will', 'provide'), ('provide', 'you'), ('you', 'a'), ('a', 'new'), ('new', 'kind'), ('kind', 'of'), ('of', 'learning'), ('learning', 'experience'), ('experience', '.'))\n"
     ]
    }
   ],
   "source": [
    "# Bigrams Example Code\n",
    "import nltk\n",
    "\n",
    "text = \"Piford Technologies will provide you a new kind of learning experience.\"\n",
    "Tokens = nltk.word_tokenize(text)\n",
    "output = tuple(nltk.bigrams(Tokens))\n",
    "print(output)"
   ]
  },
  {
   "cell_type": "markdown",
   "metadata": {},
   "source": [
    " # 'Piford Technologies', 'will provide' ,'new kind' and 'learning experience' are good bigrams while 'you a','of learning' kind of meaningless bigram."
   ]
  },
  {
   "cell_type": "code",
   "execution_count": 48,
   "metadata": {},
   "outputs": [
    {
     "name": "stdout",
     "output_type": "stream",
     "text": [
      "(('Piford', 'Technologies', 'will'), ('Technologies', 'will', 'provide'), ('will', 'provide', 'you'), ('provide', 'you', 'a'), ('you', 'a', 'new'), ('a', 'new', 'kind'), ('new', 'kind', 'of'), ('kind', 'of', 'learning'), ('of', 'learning', 'experience'), ('learning', 'experience', '.'))\n"
     ]
    }
   ],
   "source": [
    "#Trigrams Example Code : Sometimes it becomes important to see a pair of three words in the sentence for statistical analysis and frequency count\n",
    "# import nltk\n",
    "text = \"Piford Technologies will provide you a new kind of learning experience.\"\n",
    "Tokens = nltk.word_tokenize(text)\n",
    "output = tuple(nltk.trigrams(Tokens))\n",
    "print(output)"
   ]
  },
  {
   "cell_type": "markdown",
   "metadata": {},
   "source": [
    "# We will explore several methods to filter out the most meaningful collocations"
   ]
  },
  {
   "cell_type": "markdown",
   "metadata": {},
   "source": [
    "# Example: Calculating frequency of Unigrams (Single words)"
   ]
  },
  {
   "cell_type": "code",
   "execution_count": 42,
   "metadata": {},
   "outputs": [
    {
     "data": {
      "text/plain": [
       "['Piford',\n",
       " 'Technologies',\n",
       " 'will',\n",
       " 'provide',\n",
       " 'you',\n",
       " 'a',\n",
       " 'new',\n",
       " 'kind',\n",
       " 'of',\n",
       " 'learning',\n",
       " 'experience.',\n",
       " 'Learning',\n",
       " 'AI',\n",
       " 'in',\n",
       " 'Piford',\n",
       " 'Technologies',\n",
       " 'make',\n",
       " 'you',\n",
       " 'job',\n",
       " 'ready']"
      ]
     },
     "execution_count": 42,
     "metadata": {},
     "output_type": "execute_result"
    }
   ],
   "source": [
    "\n",
    "\n",
    "wordstring = \"Piford Technologies will provide you a new kind of learning experience. Learning AI in Piford Technologies make you job ready\"\n",
    "\n",
    "wordlist = wordstring.split()\n",
    "\n",
    "wordlist"
   ]
  },
  {
   "cell_type": "code",
   "execution_count": 43,
   "metadata": {},
   "outputs": [
    {
     "name": "stdout",
     "output_type": "stream",
     "text": [
      "String:  Piford Technologies will provide you a new kind of learning experience. Learning AI in Piford Technologies make you job ready\n",
      "\n",
      "List:  ['Piford', 'Technologies', 'will', 'provide', 'you', 'a', 'new', 'kind', 'of', 'learning', 'experience.', 'Learning', 'AI', 'in', 'Piford', 'Technologies', 'make', 'you', 'job', 'ready']\n",
      "\n"
     ]
    }
   ],
   "source": [
    "print(\"String:  \" + wordstring +\"\\n\")\n",
    "print(\"List:  \" + str(wordlist) + \"\\n\")\n"
   ]
  },
  {
   "cell_type": "code",
   "execution_count": 44,
   "metadata": {},
   "outputs": [
    {
     "name": "stdout",
     "output_type": "stream",
     "text": [
      "Frequencies: [2, 2, 1, 1, 2, 1, 1, 1, 1, 1, 1, 1, 1, 1, 2, 2, 1, 2, 1, 1]\n",
      "\n"
     ]
    }
   ],
   "source": [
    "wordfreq = []\n",
    "for w in wordlist:\n",
    "    wordfreq.append(wordlist.count(w))\n",
    "    \n",
    "print(\"Frequencies: \" + str(wordfreq))\n",
    " "
   ]
  },
  {
   "cell_type": "code",
   "execution_count": 45,
   "metadata": {},
   "outputs": [
    {
     "name": "stdout",
     "output_type": "stream",
     "text": [
      "Pairs:  (('Piford', 2), ('Technologies', 2), ('will', 1), ('provide', 1), ('you', 2), ('a', 1), ('new', 1), ('kind', 1), ('of', 1), ('learning', 1), ('experience.', 1), ('Learning', 1), ('AI', 1), ('in', 1), ('Piford', 2), ('Technologies', 2), ('make', 1), ('you', 2), ('job', 1), ('ready', 1))\n"
     ]
    }
   ],
   "source": [
    "\n",
    "print(\"Pairs:  \" + str(tuple(zip(wordlist, wordfreq))))\n"
   ]
  },
  {
   "cell_type": "markdown",
   "metadata": {},
   "source": [
    "# Calculating frequency of Bigrams (Pair of 2 words)\n",
    "\n",
    "Bigrams: (Noun, Noun), (Adjective, Noun)"
   ]
  },
  {
   "cell_type": "code",
   "execution_count": 51,
   "metadata": {},
   "outputs": [
    {
     "data": {
      "text/plain": [
       "[(('Piford', 'Technologies'), 2),\n",
       " (('Technologies', 'will'), 1),\n",
       " (('will', 'provide'), 1),\n",
       " (('provide', 'you'), 1),\n",
       " (('you', 'a'), 1),\n",
       " (('a', 'new'), 1),\n",
       " (('new', 'kind'), 1),\n",
       " (('kind', 'of'), 1),\n",
       " (('of', 'learning'), 1),\n",
       " (('learning', 'experience.'), 1),\n",
       " (('experience.', 'Learning'), 1),\n",
       " (('Learning', 'AI'), 1),\n",
       " (('AI', 'in'), 1),\n",
       " (('in', 'Piford'), 1),\n",
       " (('Technologies', 'make'), 1),\n",
       " (('make', 'you'), 1),\n",
       " (('you', 'job'), 1),\n",
       " (('job', 'ready'), 1)]"
      ]
     },
     "execution_count": 51,
     "metadata": {},
     "output_type": "execute_result"
    }
   ],
   "source": [
    "import nltk\n",
    "from nltk.util import ngrams\n",
    "from nltk.collocations import BigramCollocationFinder\n",
    "from nltk.metrics import BigramAssocMeasures\n",
    "\n",
    "\n",
    "wordstring = \"\"\"Piford Technologies will provide you a new kind of learning experience.\n",
    "Learning AI in Piford Technologies make you job ready\"\"\"\n",
    "\n",
    "wordlist = wordstring.split()\n",
    "\n",
    "#wordlist\n",
    "\n",
    "#word_fd = nltk.FreqDist(wordlist)  # give you frequency of single word\n",
    "bigram_fd = nltk.FreqDist(nltk.bigrams(wordlist))\n",
    "\n",
    "bigram_fd.most_common() #most_common(n) method returns a list with n most common elements together with their counts "
   ]
  },
  {
   "cell_type": "code",
   "execution_count": 52,
   "metadata": {},
   "outputs": [
    {
     "data": {
      "text/plain": [
       "[(('Piford', 'Technologies'), 2)]"
      ]
     },
     "execution_count": 52,
     "metadata": {},
     "output_type": "execute_result"
    }
   ],
   "source": [
    "bigram_fd.most_common(1)"
   ]
  },
  {
   "cell_type": "code",
   "execution_count": null,
   "metadata": {},
   "outputs": [],
   "source": []
  }
 ],
 "metadata": {
  "kernelspec": {
   "display_name": "Python 3",
   "language": "python",
   "name": "python3"
  },
  "language_info": {
   "codemirror_mode": {
    "name": "ipython",
    "version": 3
   },
   "file_extension": ".py",
   "mimetype": "text/x-python",
   "name": "python",
   "nbconvert_exporter": "python",
   "pygments_lexer": "ipython3",
   "version": "3.6.8"
  }
 },
 "nbformat": 4,
 "nbformat_minor": 4
}
