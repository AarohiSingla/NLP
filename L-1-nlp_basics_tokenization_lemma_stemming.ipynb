{
 "cells": [
  {
   "cell_type": "markdown",
   "metadata": {},
   "source": [
    "# Natural Language Processing (NLP) "
   ]
  },
  {
   "cell_type": "markdown",
   "metadata": {},
   "source": [
    "# NLTK installation\n",
    "pip3 install nltk\n",
    "\n",
    "#import nltk\n",
    "#nltk.download ()"
   ]
  },
  {
   "cell_type": "markdown",
   "metadata": {},
   "source": [
    "# Tokenization of words :\n",
    "\n",
    "We use the method word_tokenize() to split a sentence into words. <br>\n",
    "\n",
    "Word tokenization becomes a crucial part of the text (string) to numeric data conversion."
   ]
  },
  {
   "cell_type": "code",
   "execution_count": 1,
   "metadata": {},
   "outputs": [],
   "source": [
    "import nltk\n",
    "#nltk.download ()"
   ]
  },
  {
   "cell_type": "markdown",
   "metadata": {},
   "source": [
    "# Word Tokenizer"
   ]
  },
  {
   "cell_type": "code",
   "execution_count": 2,
   "metadata": {},
   "outputs": [
    {
     "name": "stdout",
     "output_type": "stream",
     "text": [
      "['AI', 'is', 'coined', 'in', 'the', 'year', '1956', 'but', 'it', 'gained', 'popularity', 'recently']\n"
     ]
    }
   ],
   "source": [
    "import nltk\n",
    "from nltk.tokenize import word_tokenize\n",
    "text = \"AI is coined in the year 1956 but it gained popularity recently\"\n",
    "print(word_tokenize(text))"
   ]
  },
  {
   "cell_type": "markdown",
   "metadata": {},
   "source": [
    "# Sentence Tokenizer"
   ]
  },
  {
   "cell_type": "code",
   "execution_count": 3,
   "metadata": {},
   "outputs": [
    {
     "name": "stdout",
     "output_type": "stream",
     "text": [
      "['AI is coined in the year 1956.', 'But it gained popularity recently']\n"
     ]
    }
   ],
   "source": [
    "from nltk.tokenize import sent_tokenize\n",
    "text = \"AI is coined in the year 1956. But it gained popularity recently\"\n",
    "print(sent_tokenize(text))"
   ]
  },
  {
   "attachments": {
    "image.png": {
     "image/png": "[encoded data removed]"
    }
   },
   "cell_type": "markdown",
   "metadata": {},
   "source": [
    "# Stemming\n",
    "\n",
    "When we have many variations of the same word eg: root word is dance and the variations are \"dancing\", \"dances\", \"danced\". <br>\n",
    "Stemming algorithm works by cutting the suffix from the word.\n",
    "![image.png](attachment:image.png)"
   ]
  },
  {
   "cell_type": "code",
   "execution_count": 4,
   "metadata": {},
   "outputs": [
    {
     "name": "stdout",
     "output_type": "stream",
     "text": [
      "wait\n",
      "wait\n",
      "wait\n",
      "wait\n"
     ]
    }
   ],
   "source": [
    "from nltk.stem import PorterStemmer\n",
    "e_words= [\"wait\", \"waiting\", \"waited\", \"waits\"]\n",
    "ps =PorterStemmer()\n",
    "for w in e_words:\n",
    "    rootWord=ps.stem(w)\n",
    "    print(rootWord)"
   ]
  },
  {
   "cell_type": "markdown",
   "metadata": {},
   "source": [
    "# Lemmatization"
   ]
  },
  {
   "cell_type": "markdown",
   "metadata": {},
   "source": [
    "\n",
    "\n",
    "# Why is Lemmatization better than Stemming?\n",
    "\n",
    "Stemming algorithm works by cutting the suffix from the word. On the contrary, Lemmatization is a more powerful operation because it perform morphological analysis of the words. \n"
   ]
  },
  {
   "cell_type": "markdown",
   "metadata": {},
   "source": [
    "# Stemming Code:"
   ]
  },
  {
   "cell_type": "code",
   "execution_count": 5,
   "metadata": {},
   "outputs": [
    {
     "name": "stdout",
     "output_type": "stream",
     "text": [
      "Stemming for studies is studi\n",
      "Stemming for studying is studi\n",
      "Stemming for cries is cri\n",
      "Stemming for cry is cri\n"
     ]
    }
   ],
   "source": [
    "import nltk\n",
    "from nltk.stem.porter import PorterStemmer\n",
    "porter_stemmer  = PorterStemmer()\n",
    "text = \"studies studying cries cry\"\n",
    "tokenization = nltk.word_tokenize(text)\n",
    "for w in tokenization:\n",
    " print(\"Stemming for {} is {}\".format(w,porter_stemmer.stem(w)))  "
   ]
  },
  {
   "cell_type": "markdown",
   "metadata": {},
   "source": [
    "# Lemmatizatiion Code:"
   ]
  },
  {
   "cell_type": "code",
   "execution_count": 6,
   "metadata": {
    "scrolled": true
   },
   "outputs": [
    {
     "name": "stdout",
     "output_type": "stream",
     "text": [
      "Lemma for studies is study\n",
      "Lemma for studying is studying\n",
      "Lemma for cries is cry\n",
      "Lemma for cry is cry\n"
     ]
    }
   ],
   "source": [
    "import nltk\n",
    "from nltk.stem import WordNetLemmatizer\n",
    "wordnet_lemmatizer = WordNetLemmatizer()\n",
    "text = \"studies studying cries cry\"\n",
    "tokenization = nltk.word_tokenize(text)\n",
    "for w in tokenization:\n",
    " print(\"Lemma for {} is {}\".format(w, wordnet_lemmatizer.lemmatize(w)))  "
   ]
  },
  {
   "cell_type": "markdown",
   "metadata": {},
   "source": [
    "If you look stemming for studies and studying, output is same (studi) but lemmatizer provides different lemma for both tokens study for studies and studying for studying."
   ]
  },
  {
   "cell_type": "markdown",
   "metadata": {},
   "source": [
    "# NLTK stop words\n",
    "\n",
    "Text may contain stop words like ‘the’, ‘is’, ‘are’. Stop words can be filtered from the text to be processed. "
   ]
  },
  {
   "cell_type": "code",
   "execution_count": 7,
   "metadata": {},
   "outputs": [
    {
     "name": "stdout",
     "output_type": "stream",
     "text": [
      "['AI', 'introduced', 'year', '1956', 'gained', 'popularity', 'recently', '.']\n"
     ]
    }
   ],
   "source": [
    "from nltk.tokenize import sent_tokenize, word_tokenize\n",
    "from nltk.corpus import stopwords\n",
    " \n",
    "data = \"AI was introduced in the year 1956 but it gained popularity recently.\"\n",
    "stopWords = set(stopwords.words('english'))\n",
    "words = word_tokenize(data)\n",
    "wordsFiltered = []\n",
    " \n",
    "for w in words:\n",
    "    if w not in stopWords:\n",
    "        wordsFiltered.append(w)\n",
    " \n",
    "print(wordsFiltered)"
   ]
  },
  {
   "cell_type": "code",
   "execution_count": 8,
   "metadata": {
    "scrolled": true
   },
   "outputs": [
    {
     "name": "stdout",
     "output_type": "stream",
     "text": [
      "179\n",
      "{'hers', 'any', 'mightn', 'both', 'these', 'm', 'she', \"isn't\", 'out', 'an', 'its', 'himself', 'why', 'now', 'between', 'yourself', 'be', 'ma', 'off', 'was', 'd', 'doesn', 'by', 'my', 'above', 'yours', 'there', 'which', 'down', \"needn't\", 'on', 'i', 'through', 'before', 'from', 'ain', 'to', 'their', 'so', 'aren', 'won', 'over', 'ourselves', 'most', 'with', 'your', 'y', 'if', 'own', \"weren't\", \"you've\", 'who', 'does', 'did', 'nor', 'hasn', 'doing', 'what', 'because', 't', \"it's\", \"hadn't\", 'shan', 'after', 'no', 'him', 'couldn', 'it', 'wouldn', 'have', 'but', \"she's\", 'mustn', \"you'd\", 'are', 'hadn', 'other', 'o', \"mightn't\", 'll', 'her', 'few', 'here', 'the', 'at', 'same', 'our', 'myself', 'a', 'in', \"you'll\", 's', 'for', 'don', 'his', 'having', 'again', \"mustn't\", 'while', 'under', 'will', 'only', 'were', 'them', \"shan't\", 'such', 'against', 'below', 'how', 'some', \"should've\", 'is', 're', 'not', 'can', 'when', 'during', 'each', 'very', 'shouldn', 'am', \"haven't\", 'this', 'herself', 'those', 'had', 'yourselves', 'you', 'then', \"don't\", 'more', 'should', \"aren't\", 'been', 'me', 'being', 'than', 'once', 'haven', \"that'll\", 'further', 'all', \"wouldn't\", 'they', 'or', \"doesn't\", 'needn', \"you're\", 'of', 'wasn', 'do', 'that', 'whom', 'into', 'as', 'we', 'ours', 'isn', 'just', 'weren', \"wasn't\", 'itself', 'has', 'themselves', 've', \"won't\", \"shouldn't\", 'and', 'didn', 'too', 'about', 'theirs', 'up', 'where', 'until', \"couldn't\", \"didn't\", \"hasn't\", 'he'}\n"
     ]
    }
   ],
   "source": [
    "print(len(stopWords))\n",
    "print(stopWords)"
   ]
  },
  {
   "cell_type": "code",
   "execution_count": null,
   "metadata": {},
   "outputs": [],
   "source": []
  }
 ],
 "metadata": {
  "kernelspec": {
   "display_name": "Python 3",
   "language": "python",
   "name": "python3"
  },
  "language_info": {
   "codemirror_mode": {
    "name": "ipython",
    "version": 3
   },
   "file_extension": ".py",
   "mimetype": "text/x-python",
   "name": "python",
   "nbconvert_exporter": "python",
   "pygments_lexer": "ipython3",
   "version": "3.6.8"
  }
 },
 "nbformat": 4,
 "nbformat_minor": 4
}
